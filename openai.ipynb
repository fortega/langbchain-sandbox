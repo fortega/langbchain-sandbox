{
 "cells": [
  {
   "cell_type": "code",
   "execution_count": 1,
   "metadata": {},
   "outputs": [],
   "source": [
    "from langchain_openai import ChatOpenAI\n",
    "\n",
    "llm = ChatOpenAI()"
   ]
  },
  {
   "cell_type": "code",
   "execution_count": 2,
   "metadata": {},
   "outputs": [
    {
     "name": "stdout",
     "output_type": "stream",
     "text": [
      "What is considered important can vary greatly depending on individual values, beliefs, and circumstances. Some common things that are often seen as important include:\n",
      "\n",
      "1. Health and well-being: Maintaining physical and mental health is crucial for overall quality of life.\n",
      "\n",
      "2. Relationships: Building and nurturing strong connections with family, friends, and partners can provide emotional support and fulfillment.\n",
      "\n",
      "3. Personal growth: Continuously learning and improving oneself can lead to greater satisfaction and success.\n",
      "\n",
      "4. Purpose and meaning: Having a sense of purpose and working towards meaningful goals can give life direction and fulfillment.\n",
      "\n",
      "5. Contribution to society: Making a positive impact on others and society as a whole can bring a sense of fulfillment and satisfaction.\n",
      "\n",
      "Ultimately, what is important to one person may not be as important to another, so it is essential to reflect on your own values and priorities to determine what holds significance in your life.\n"
     ]
    }
   ],
   "source": [
    "question = \"what is important?\"\n",
    "result = llm.invoke(question)\n",
    "print(result.content)"
   ]
  },
  {
   "cell_type": "code",
   "execution_count": 3,
   "metadata": {},
   "outputs": [],
   "source": [
    "from langchain_core.prompts import ChatPromptTemplate\n",
    "prompt = ChatPromptTemplate.from_messages([\n",
    "    (\"system\", \"You are bussiness analyst.\"),\n",
    "    (\"user\", \"{input}\")\n",
    "])\n",
    "\n",
    "chain = prompt | llm"
   ]
  },
  {
   "cell_type": "code",
   "execution_count": 4,
   "metadata": {},
   "outputs": [
    {
     "name": "stdout",
     "output_type": "stream",
     "text": [
      "As a business analyst, it is important to understand the goals and objectives of the organization, identify key stakeholders, gather and analyze data, and provide actionable insights and recommendations to support decision-making. It is also important to have good communication skills, attention to detail, problem-solving abilities, and a strong understanding of business processes and technology. Additionally, staying updated with industry trends and best practices is crucial to ensure effective analysis and recommendations.\n"
     ]
    }
   ],
   "source": [
    "result = chain.invoke({\"input\": question})\n",
    "print(result.content)"
   ]
  },
  {
   "cell_type": "code",
   "execution_count": 5,
   "metadata": {},
   "outputs": [],
   "source": [
    "from langchain_community.document_loaders import WebBaseLoader\n",
    "loader = WebBaseLoader(\"https://www.epam.com/about\")\n",
    "\n",
    "docs = loader.load()"
   ]
  },
  {
   "cell_type": "code",
   "execution_count": 6,
   "metadata": {},
   "outputs": [],
   "source": [
    "from langchain_openai import OpenAIEmbeddings\n",
    "\n",
    "embeddings = OpenAIEmbeddings()"
   ]
  },
  {
   "cell_type": "code",
   "execution_count": 7,
   "metadata": {},
   "outputs": [],
   "source": [
    "from langchain_community.vectorstores import FAISS\n",
    "from langchain_text_splitters import RecursiveCharacterTextSplitter\n",
    "\n",
    "\n",
    "text_splitter = RecursiveCharacterTextSplitter()\n",
    "documents = text_splitter.split_documents(docs)\n",
    "vector = FAISS.from_documents(documents, embeddings)"
   ]
  },
  {
   "cell_type": "code",
   "execution_count": 8,
   "metadata": {},
   "outputs": [],
   "source": [
    "from langchain.chains.combine_documents import create_stuff_documents_chain\n",
    "\n",
    "prompt = ChatPromptTemplate.from_template(\"\"\"Answer the following question based only on the provided context:\n",
    "\n",
    "<context>\n",
    "{context}\n",
    "</context>\n",
    "\n",
    "Question: {input}\"\"\")\n",
    "\n",
    "document_chain = create_stuff_documents_chain(llm, prompt)"
   ]
  },
  {
   "cell_type": "code",
   "execution_count": 9,
   "metadata": {},
   "outputs": [],
   "source": [
    "from langchain.chains import create_retrieval_chain\n",
    "\n",
    "retriever = vector.as_retriever()\n",
    "retrieval_chain = create_retrieval_chain(retriever, document_chain)"
   ]
  },
  {
   "cell_type": "code",
   "execution_count": 10,
   "metadata": {},
   "outputs": [
    {
     "name": "stdout",
     "output_type": "stream",
     "text": [
      "Based on the context provided, what is important is the company's focus on various services such as Engineering, Cloud, Artificial Intelligence, Cybersecurity, and Digital Transformation. Additionally, the company places importance on industries they work with, including Consumer, Financial Services, Telecom, Media & Entertainment, Life Sciences & Healthcare, Software & Hi-Tech, and others. The company also emphasizes corporate responsibility, recognition, and its leadership team.\n"
     ]
    }
   ],
   "source": [
    "response = retrieval_chain.invoke({\"input\": question})\n",
    "print(response[\"answer\"])"
   ]
  },
  {
   "cell_type": "code",
   "execution_count": null,
   "metadata": {},
   "outputs": [],
   "source": []
  }
 ],
 "metadata": {
  "kernelspec": {
   "display_name": "Python 3",
   "language": "python",
   "name": "python3"
  },
  "language_info": {
   "codemirror_mode": {
    "name": "ipython",
    "version": 3
   },
   "file_extension": ".py",
   "mimetype": "text/x-python",
   "name": "python",
   "nbconvert_exporter": "python",
   "pygments_lexer": "ipython3",
   "version": "3.11.4"
  }
 },
 "nbformat": 4,
 "nbformat_minor": 2
}
