{
 "cells": [
  {
   "cell_type": "code",
   "execution_count": 1,
   "metadata": {},
   "outputs": [],
   "source": [
    "from langchain_openai import ChatOpenAI\n",
    "\n",
    "llm = ChatOpenAI()"
   ]
  },
  {
   "cell_type": "code",
   "execution_count": 9,
   "metadata": {},
   "outputs": [
    {
     "name": "stdout",
     "output_type": "stream",
     "text": [
      "Langsmith can help with testing in several ways:\n",
      "\n",
      "1. Automation: Langsmith can be used to automate various testing tasks, such as generating test data, running test scripts, and analyzing test results.\n",
      "\n",
      "2. Integration: Langsmith can be integrated with other testing tools and frameworks to streamline the testing process and ensure that all testing activities are coordinated and efficient.\n",
      "\n",
      "3. Language support: Langsmith supports a wide range of programming languages and can be used to test applications written in different languages, making it a versatile tool for testing diverse software projects.\n",
      "\n",
      "4. Performance testing: Langsmith can be used to conduct performance testing, load testing, and stress testing to ensure that applications perform well under different conditions and scales.\n",
      "\n",
      "5. Security testing: Langsmith can be used to conduct security testing, vulnerability scanning, and penetration testing to identify and address potential security risks in applications.\n",
      "\n",
      "Overall, Langsmith can help improve the quality, efficiency, and effectiveness of testing activities, leading to better software quality and reliability.\n"
     ]
    }
   ],
   "source": [
    "question = \"how can langsmith help with testing?\"\n",
    "result = llm.invoke(question)\n",
    "print(result.content)"
   ]
  },
  {
   "cell_type": "code",
   "execution_count": 7,
   "metadata": {},
   "outputs": [],
   "source": [
    "from langchain_core.prompts import ChatPromptTemplate\n",
    "prompt = ChatPromptTemplate.from_messages([\n",
    "    (\"system\", \"You are a world class technical documentation writer.\"),\n",
    "    (\"user\", \"{input}\")\n",
    "])\n",
    "\n",
    "chain = prompt | llm"
   ]
  },
  {
   "cell_type": "code",
   "execution_count": 8,
   "metadata": {},
   "outputs": [
    {
     "name": "stdout",
     "output_type": "stream",
     "text": [
      "Langsmith is a powerful tool that can greatly assist with testing by providing automated language validation capabilities. Here are some ways in which Langsmith can help with testing:\n",
      "\n",
      "1. **Language Validation**: Langsmith can be used to validate the correctness of language usage in your application. It can check for spelling errors, grammar mistakes, and adherence to style guides.\n",
      "\n",
      "2. **Consistent Terminology**: Langsmith can ensure that consistent terminology is used throughout the application. This can help in maintaining clarity and avoiding confusion for users.\n",
      "\n",
      "3. **Localization Testing**: Langsmith can assist in testing the localization of your application by verifying translations and ensuring that language-specific content is displayed correctly.\n",
      "\n",
      "4. **Content Verification**: Langsmith can be used to verify the accuracy and completeness of content in your application, such as error messages, help text, and labels.\n",
      "\n",
      "5. **Accessibility Testing**: Langsmith can help in testing the accessibility of your application by checking for language accessibility standards compliance.\n",
      "\n",
      "6. **Automated Testing**: Langsmith can be integrated into your automated testing framework to perform language validation checks as part of your continuous integration process.\n",
      "\n",
      "Overall, Langsmith can be a valuable tool in ensuring the quality and consistency of language usage in your application, ultimately leading to a better user experience.\n"
     ]
    }
   ],
   "source": [
    "result = chain.invoke({\"input\": question})\n",
    "print(result.content)"
   ]
  },
  {
   "cell_type": "code",
   "execution_count": 10,
   "metadata": {},
   "outputs": [],
   "source": [
    "from langchain_core.output_parsers import StrOutputParser\n",
    "\n",
    "output_parser = StrOutputParser()\n",
    "\n",
    "chain = prompt | llm | output_parser"
   ]
  },
  {
   "cell_type": "code",
   "execution_count": 11,
   "metadata": {},
   "outputs": [
    {
     "name": "stdout",
     "output_type": "stream",
     "text": [
      "Langsmith can help with testing in a few ways:\n",
      "\n",
      "1. **Automated Testing**: Langsmith can be used to generate test cases based on the language specification, which can then be automated to run against the implementation. This can help ensure that the implementation conforms to the language specification.\n",
      "\n",
      "2. **Test Data Generation**: Langsmith can generate random test data based on the grammar of the language, which can be used to test different scenarios and edge cases in the implementation.\n",
      "\n",
      "3. **Code Coverage Analysis**: Langsmith can be used to analyze the code coverage of test cases, helping testers identify areas of the code that are not being tested adequately.\n",
      "\n",
      "4. **Mutation Testing**: Langsmith can be used to introduce small changes (mutations) in the implementation and run test cases to see if they detect these changes. This can help identify weaknesses in the test suite.\n",
      "\n",
      "5. **Test Case Generation**: Langsmith can automatically generate test cases based on the language specification, helping testers quickly create test suites for different features of the language.\n",
      "\n",
      "Overall, Langsmith can be a valuable tool in the testing process, helping testers ensure the correctness and robustness of the implementation.\n"
     ]
    }
   ],
   "source": [
    "result = chain.invoke({\"input\": question})\n",
    "print(result)"
   ]
  },
  {
   "cell_type": "code",
   "execution_count": 12,
   "metadata": {},
   "outputs": [],
   "source": [
    "from langchain_community.document_loaders import WebBaseLoader\n",
    "loader = WebBaseLoader(\"https://docs.smith.langchain.com/user_guide\")\n",
    "\n",
    "docs = loader.load()"
   ]
  },
  {
   "cell_type": "code",
   "execution_count": 14,
   "metadata": {},
   "outputs": [],
   "source": [
    "from langchain_openai import OpenAIEmbeddings\n",
    "\n",
    "embeddings = OpenAIEmbeddings()"
   ]
  },
  {
   "cell_type": "code",
   "execution_count": 15,
   "metadata": {},
   "outputs": [],
   "source": [
    "from langchain_community.vectorstores import FAISS\n",
    "from langchain_text_splitters import RecursiveCharacterTextSplitter\n",
    "\n",
    "\n",
    "text_splitter = RecursiveCharacterTextSplitter()\n",
    "documents = text_splitter.split_documents(docs)\n",
    "vector = FAISS.from_documents(documents, embeddings)"
   ]
  },
  {
   "cell_type": "code",
   "execution_count": 16,
   "metadata": {},
   "outputs": [],
   "source": [
    "from langchain.chains.combine_documents import create_stuff_documents_chain\n",
    "\n",
    "prompt = ChatPromptTemplate.from_template(\"\"\"Answer the following question based only on the provided context:\n",
    "\n",
    "<context>\n",
    "{context}\n",
    "</context>\n",
    "\n",
    "Question: {input}\"\"\")\n",
    "\n",
    "document_chain = create_stuff_documents_chain(llm, prompt)"
   ]
  },
  {
   "cell_type": "code",
   "execution_count": 17,
   "metadata": {},
   "outputs": [
    {
     "name": "stdout",
     "output_type": "stream",
     "text": [
      "Langsmith can help with testing by allowing users to visualize test results.\n"
     ]
    }
   ],
   "source": [
    "from langchain_core.documents import Document\n",
    "\n",
    "result = document_chain.invoke({\n",
    "    \"input\": question,\n",
    "    \"context\": [Document(page_content=\"langsmith can let you visualize test results\")]\n",
    "})\n",
    "print(result)"
   ]
  },
  {
   "cell_type": "code",
   "execution_count": 18,
   "metadata": {},
   "outputs": [],
   "source": [
    "from langchain.chains import create_retrieval_chain\n",
    "\n",
    "retriever = vector.as_retriever()\n",
    "retrieval_chain = create_retrieval_chain(retriever, document_chain)"
   ]
  },
  {
   "cell_type": "code",
   "execution_count": 20,
   "metadata": {},
   "outputs": [
    {
     "name": "stdout",
     "output_type": "stream",
     "text": [
      "LangSmith can help with testing by allowing developers to create datasets, run tests on LLM applications, upload test cases in bulk or export them from application traces, and run custom evaluations to score test results. It also provides a comparison view to track and diagnose regressions in test scores across multiple revisions of the application, as well as a playground environment for rapid iteration and experimentation. Additionally, LangSmith supports beta testing to collect real-world performance data and feedback, as well as annotating traces and adding runs to datasets to refine and improve the application's performance.\n"
     ]
    }
   ],
   "source": [
    "response = retrieval_chain.invoke({\"input\": question})\n",
    "print(response[\"answer\"])"
   ]
  },
  {
   "cell_type": "code",
   "execution_count": null,
   "metadata": {},
   "outputs": [],
   "source": []
  }
 ],
 "metadata": {
  "kernelspec": {
   "display_name": "Python 3",
   "language": "python",
   "name": "python3"
  },
  "language_info": {
   "codemirror_mode": {
    "name": "ipython",
    "version": 3
   },
   "file_extension": ".py",
   "mimetype": "text/x-python",
   "name": "python",
   "nbconvert_exporter": "python",
   "pygments_lexer": "ipython3",
   "version": "3.11.4"
  }
 },
 "nbformat": 4,
 "nbformat_minor": 2
}
